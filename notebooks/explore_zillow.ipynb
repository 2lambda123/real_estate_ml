{
 "cells": [
  {
   "cell_type": "code",
   "execution_count": 1,
   "metadata": {},
   "outputs": [
    {
     "name": "stderr",
     "output_type": "stream",
     "text": [
      "/Users/noahgift/.reml/lib/python3.6/site-packages/statsmodels/compat/pandas.py:56: FutureWarning: The pandas.core.datetools module is deprecated and will be removed in a future version. Please use the pandas.tseries module instead.\n",
      "  from pandas.core import datetools\n"
     ]
    },
    {
     "data": {
      "text/html": [
       "<style>.container { width:100% !important; }</style>"
      ],
      "text/plain": [
       "<IPython.core.display.HTML object>"
      ]
     },
     "metadata": {},
     "output_type": "display_data"
    }
   ],
   "source": [
    "import pandas as pd\n",
    "pd.set_option('display.float_format', lambda x: '%.3f' % x)\n",
    "import numpy as np\n",
    "import statsmodels.api as sm\n",
    "import statsmodels.formula.api as smf\n",
    "import matplotlib.pyplot as plt\n",
    "import seaborn as sns\n",
    "from sklearn.cluster import KMeans\n",
    "color = sns.color_palette()\n",
    "from IPython.core.display import display, HTML\n",
    "display(HTML(\"<style>.container { width:100% !important; }</style>\"))\n",
    "%matplotlib inline"
   ]
  },
  {
   "cell_type": "code",
   "execution_count": 2,
   "metadata": {},
   "outputs": [],
   "source": [
    "df = pd.read_csv(\"../data/Zip_Zhvi_SingleFamilyResidence.csv\")\n"
   ]
  },
  {
   "cell_type": "code",
   "execution_count": 3,
   "metadata": {},
   "outputs": [
    {
     "data": {
      "text/html": [
       "<div>\n",
       "<style scoped>\n",
       "    .dataframe tbody tr th:only-of-type {\n",
       "        vertical-align: middle;\n",
       "    }\n",
       "\n",
       "    .dataframe tbody tr th {\n",
       "        vertical-align: top;\n",
       "    }\n",
       "\n",
       "    .dataframe thead th {\n",
       "        text-align: right;\n",
       "    }\n",
       "</style>\n",
       "<table border=\"1\" class=\"dataframe\">\n",
       "  <thead>\n",
       "    <tr style=\"text-align: right;\">\n",
       "      <th></th>\n",
       "      <th>RegionID</th>\n",
       "      <th>RegionName</th>\n",
       "      <th>SizeRank</th>\n",
       "      <th>1996-04</th>\n",
       "      <th>1996-05</th>\n",
       "      <th>1996-06</th>\n",
       "      <th>1996-07</th>\n",
       "      <th>1996-08</th>\n",
       "      <th>1996-09</th>\n",
       "      <th>1996-10</th>\n",
       "      <th>...</th>\n",
       "      <th>2016-12</th>\n",
       "      <th>2017-01</th>\n",
       "      <th>2017-02</th>\n",
       "      <th>2017-03</th>\n",
       "      <th>2017-04</th>\n",
       "      <th>2017-05</th>\n",
       "      <th>2017-06</th>\n",
       "      <th>2017-07</th>\n",
       "      <th>2017-08</th>\n",
       "      <th>2017-09</th>\n",
       "    </tr>\n",
       "  </thead>\n",
       "  <tbody>\n",
       "    <tr>\n",
       "      <th>count</th>\n",
       "      <td>15282.000</td>\n",
       "      <td>15282.000</td>\n",
       "      <td>15282.000</td>\n",
       "      <td>10843.000</td>\n",
       "      <td>10974.000</td>\n",
       "      <td>10998.000</td>\n",
       "      <td>11005.000</td>\n",
       "      <td>11018.000</td>\n",
       "      <td>11018.000</td>\n",
       "      <td>11018.000</td>\n",
       "      <td>...</td>\n",
       "      <td>15232.000</td>\n",
       "      <td>15282.000</td>\n",
       "      <td>15282.000</td>\n",
       "      <td>15282.000</td>\n",
       "      <td>15282.000</td>\n",
       "      <td>15282.000</td>\n",
       "      <td>15282.000</td>\n",
       "      <td>15282.000</td>\n",
       "      <td>15282.000</td>\n",
       "      <td>15282.000</td>\n",
       "    </tr>\n",
       "    <tr>\n",
       "      <th>mean</th>\n",
       "      <td>80125.483</td>\n",
       "      <td>46295.286</td>\n",
       "      <td>7641.500</td>\n",
       "      <td>123036.189</td>\n",
       "      <td>122971.396</td>\n",
       "      <td>122955.756</td>\n",
       "      <td>122978.601</td>\n",
       "      <td>123053.295</td>\n",
       "      <td>123168.660</td>\n",
       "      <td>123334.779</td>\n",
       "      <td>...</td>\n",
       "      <td>258309.913</td>\n",
       "      <td>259161.098</td>\n",
       "      <td>260118.846</td>\n",
       "      <td>261045.308</td>\n",
       "      <td>261971.018</td>\n",
       "      <td>262927.640</td>\n",
       "      <td>263803.226</td>\n",
       "      <td>264618.329</td>\n",
       "      <td>265565.816</td>\n",
       "      <td>266395.956</td>\n",
       "    </tr>\n",
       "    <tr>\n",
       "      <th>std</th>\n",
       "      <td>30816.445</td>\n",
       "      <td>28934.030</td>\n",
       "      <td>4411.678</td>\n",
       "      <td>78308.265</td>\n",
       "      <td>77822.431</td>\n",
       "      <td>77728.750</td>\n",
       "      <td>77712.302</td>\n",
       "      <td>77681.914</td>\n",
       "      <td>77730.936</td>\n",
       "      <td>77814.034</td>\n",
       "      <td>...</td>\n",
       "      <td>286788.579</td>\n",
       "      <td>287657.252</td>\n",
       "      <td>287840.275</td>\n",
       "      <td>287918.491</td>\n",
       "      <td>288476.692</td>\n",
       "      <td>289147.943</td>\n",
       "      <td>289719.317</td>\n",
       "      <td>290338.071</td>\n",
       "      <td>291066.856</td>\n",
       "      <td>291579.369</td>\n",
       "    </tr>\n",
       "    <tr>\n",
       "      <th>min</th>\n",
       "      <td>58196.000</td>\n",
       "      <td>1001.000</td>\n",
       "      <td>1.000</td>\n",
       "      <td>24400.000</td>\n",
       "      <td>23900.000</td>\n",
       "      <td>24200.000</td>\n",
       "      <td>24700.000</td>\n",
       "      <td>24700.000</td>\n",
       "      <td>25100.000</td>\n",
       "      <td>25300.000</td>\n",
       "      <td>...</td>\n",
       "      <td>31800.000</td>\n",
       "      <td>32100.000</td>\n",
       "      <td>31900.000</td>\n",
       "      <td>31200.000</td>\n",
       "      <td>30600.000</td>\n",
       "      <td>30600.000</td>\n",
       "      <td>30900.000</td>\n",
       "      <td>31400.000</td>\n",
       "      <td>32600.000</td>\n",
       "      <td>32700.000</td>\n",
       "    </tr>\n",
       "    <tr>\n",
       "      <th>25%</th>\n",
       "      <td>66785.250</td>\n",
       "      <td>21087.750</td>\n",
       "      <td>3821.250</td>\n",
       "      <td>75700.000</td>\n",
       "      <td>75900.000</td>\n",
       "      <td>76000.000</td>\n",
       "      <td>76000.000</td>\n",
       "      <td>76200.000</td>\n",
       "      <td>76225.000</td>\n",
       "      <td>76300.000</td>\n",
       "      <td>...</td>\n",
       "      <td>122100.000</td>\n",
       "      <td>122500.000</td>\n",
       "      <td>123100.000</td>\n",
       "      <td>123700.000</td>\n",
       "      <td>124100.000</td>\n",
       "      <td>124700.000</td>\n",
       "      <td>125100.000</td>\n",
       "      <td>125600.000</td>\n",
       "      <td>126025.000</td>\n",
       "      <td>126500.000</td>\n",
       "    </tr>\n",
       "    <tr>\n",
       "      <th>50%</th>\n",
       "      <td>77175.000</td>\n",
       "      <td>44306.500</td>\n",
       "      <td>7641.500</td>\n",
       "      <td>104300.000</td>\n",
       "      <td>104450.000</td>\n",
       "      <td>104500.000</td>\n",
       "      <td>104600.000</td>\n",
       "      <td>104900.000</td>\n",
       "      <td>105000.000</td>\n",
       "      <td>105100.000</td>\n",
       "      <td>...</td>\n",
       "      <td>176800.000</td>\n",
       "      <td>177400.000</td>\n",
       "      <td>178300.000</td>\n",
       "      <td>179200.000</td>\n",
       "      <td>179900.000</td>\n",
       "      <td>180600.000</td>\n",
       "      <td>181300.000</td>\n",
       "      <td>182000.000</td>\n",
       "      <td>182500.000</td>\n",
       "      <td>183100.000</td>\n",
       "    </tr>\n",
       "    <tr>\n",
       "      <th>75%</th>\n",
       "      <td>88700.500</td>\n",
       "      <td>70399.500</td>\n",
       "      <td>11461.750</td>\n",
       "      <td>147100.000</td>\n",
       "      <td>147200.000</td>\n",
       "      <td>147100.000</td>\n",
       "      <td>147400.000</td>\n",
       "      <td>147475.000</td>\n",
       "      <td>147575.000</td>\n",
       "      <td>147600.000</td>\n",
       "      <td>...</td>\n",
       "      <td>288425.000</td>\n",
       "      <td>289200.000</td>\n",
       "      <td>290300.000</td>\n",
       "      <td>291375.000</td>\n",
       "      <td>292300.000</td>\n",
       "      <td>293400.000</td>\n",
       "      <td>294800.000</td>\n",
       "      <td>296000.000</td>\n",
       "      <td>297400.000</td>\n",
       "      <td>298750.000</td>\n",
       "    </tr>\n",
       "    <tr>\n",
       "      <th>max</th>\n",
       "      <td>738092.000</td>\n",
       "      <td>99901.000</td>\n",
       "      <td>15282.000</td>\n",
       "      <td>1769000.000</td>\n",
       "      <td>1768100.000</td>\n",
       "      <td>1766900.000</td>\n",
       "      <td>1764200.000</td>\n",
       "      <td>1762200.000</td>\n",
       "      <td>1762600.000</td>\n",
       "      <td>1763900.000</td>\n",
       "      <td>...</td>\n",
       "      <td>6299300.000</td>\n",
       "      <td>6360300.000</td>\n",
       "      <td>6336400.000</td>\n",
       "      <td>6255500.000</td>\n",
       "      <td>6294300.000</td>\n",
       "      <td>6403700.000</td>\n",
       "      <td>6468900.000</td>\n",
       "      <td>6489100.000</td>\n",
       "      <td>6492000.000</td>\n",
       "      <td>6475600.000</td>\n",
       "    </tr>\n",
       "  </tbody>\n",
       "</table>\n",
       "<p>8 rows × 261 columns</p>\n",
       "</div>"
      ],
      "text/plain": [
       "        RegionID  RegionName  SizeRank     1996-04     1996-05     1996-06  \\\n",
       "count  15282.000   15282.000 15282.000   10843.000   10974.000   10998.000   \n",
       "mean   80125.483   46295.286  7641.500  123036.189  122971.396  122955.756   \n",
       "std    30816.445   28934.030  4411.678   78308.265   77822.431   77728.750   \n",
       "min    58196.000    1001.000     1.000   24400.000   23900.000   24200.000   \n",
       "25%    66785.250   21087.750  3821.250   75700.000   75900.000   76000.000   \n",
       "50%    77175.000   44306.500  7641.500  104300.000  104450.000  104500.000   \n",
       "75%    88700.500   70399.500 11461.750  147100.000  147200.000  147100.000   \n",
       "max   738092.000   99901.000 15282.000 1769000.000 1768100.000 1766900.000   \n",
       "\n",
       "          1996-07     1996-08     1996-09     1996-10     ...         2016-12  \\\n",
       "count   11005.000   11018.000   11018.000   11018.000     ...       15232.000   \n",
       "mean   122978.601  123053.295  123168.660  123334.779     ...      258309.913   \n",
       "std     77712.302   77681.914   77730.936   77814.034     ...      286788.579   \n",
       "min     24700.000   24700.000   25100.000   25300.000     ...       31800.000   \n",
       "25%     76000.000   76200.000   76225.000   76300.000     ...      122100.000   \n",
       "50%    104600.000  104900.000  105000.000  105100.000     ...      176800.000   \n",
       "75%    147400.000  147475.000  147575.000  147600.000     ...      288425.000   \n",
       "max   1764200.000 1762200.000 1762600.000 1763900.000     ...     6299300.000   \n",
       "\n",
       "          2017-01     2017-02     2017-03     2017-04     2017-05     2017-06  \\\n",
       "count   15282.000   15282.000   15282.000   15282.000   15282.000   15282.000   \n",
       "mean   259161.098  260118.846  261045.308  261971.018  262927.640  263803.226   \n",
       "std    287657.252  287840.275  287918.491  288476.692  289147.943  289719.317   \n",
       "min     32100.000   31900.000   31200.000   30600.000   30600.000   30900.000   \n",
       "25%    122500.000  123100.000  123700.000  124100.000  124700.000  125100.000   \n",
       "50%    177400.000  178300.000  179200.000  179900.000  180600.000  181300.000   \n",
       "75%    289200.000  290300.000  291375.000  292300.000  293400.000  294800.000   \n",
       "max   6360300.000 6336400.000 6255500.000 6294300.000 6403700.000 6468900.000   \n",
       "\n",
       "          2017-07     2017-08     2017-09  \n",
       "count   15282.000   15282.000   15282.000  \n",
       "mean   264618.329  265565.816  266395.956  \n",
       "std    290338.071  291066.856  291579.369  \n",
       "min     31400.000   32600.000   32700.000  \n",
       "25%    125600.000  126025.000  126500.000  \n",
       "50%    182000.000  182500.000  183100.000  \n",
       "75%    296000.000  297400.000  298750.000  \n",
       "max   6489100.000 6492000.000 6475600.000  \n",
       "\n",
       "[8 rows x 261 columns]"
      ]
     },
     "execution_count": 3,
     "metadata": {},
     "output_type": "execute_result"
    }
   ],
   "source": [
    "df.describe()"
   ]
  },
  {
   "cell_type": "code",
   "execution_count": 4,
   "metadata": {},
   "outputs": [],
   "source": [
    "median_prices = df.median()"
   ]
  },
  {
   "cell_type": "code",
   "execution_count": 7,
   "metadata": {},
   "outputs": [
    {
     "data": {
      "text/plain": [
       "2017-05   180600.000\n",
       "2017-06   181300.000\n",
       "2017-07   182000.000\n",
       "2017-08   182500.000\n",
       "2017-09   183100.000\n",
       "dtype: float64"
      ]
     },
     "execution_count": 7,
     "metadata": {},
     "output_type": "execute_result"
    }
   ],
   "source": [
    "median_prices.tail()"
   ]
  },
  {
   "cell_type": "code",
   "execution_count": 11,
   "metadata": {},
   "outputs": [
    {
     "data": {
      "text/plain": [
       "pandas.core.series.Series"
      ]
     },
     "execution_count": 11,
     "metadata": {},
     "output_type": "execute_result"
    }
   ],
   "source": [
    "type(median_prices)\n"
   ]
  },
  {
   "cell_type": "code",
   "execution_count": 12,
   "metadata": {},
   "outputs": [
    {
     "name": "stderr",
     "output_type": "stream",
     "text": [
      "/Users/noahgift/.reml/lib/python3.6/site-packages/seaborn/timeseries.py:183: UserWarning: The tsplot function is deprecated and will be removed or replaced (in a substantially altered version) in a future release.\n",
      "  warnings.warn(msg, UserWarning)\n"
     ]
    },
    {
     "data": {
      "image/png": "[encoded data removed]",
      "text/plain": [
       "<matplotlib.figure.Figure at 0x117fab4a8>"
      ]
     },
     "metadata": {},
     "output_type": "display_data"
    }
   ],
   "source": [
    "ax = sns.tsplot(data=median_prices)"
   ]
  },
  {
   "cell_type": "code",
   "execution_count": null,
   "metadata": {},
   "outputs": [],
   "source": []
  }
 ],
 "metadata": {
  "kernelspec": {
   "display_name": "Python 3",
   "language": "python",
   "name": "python3"
  },
  "language_info": {
   "codemirror_mode": {
    "name": "ipython",
    "version": 3
   },
   "file_extension": ".py",
   "mimetype": "text/x-python",
   "name": "python",
   "nbconvert_exporter": "python",
   "pygments_lexer": "ipython3",
   "version": "3.6.2"
  }
 },
 "nbformat": 4,
 "nbformat_minor": 2
}
